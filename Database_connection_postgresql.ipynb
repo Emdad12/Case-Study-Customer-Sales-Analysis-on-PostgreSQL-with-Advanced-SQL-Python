{
 "cells": [
  {
   "cell_type": "code",
   "execution_count": 5,
   "id": "e9cc85d1-3873-45d8-8ee8-e50f919fc775",
   "metadata": {},
   "outputs": [],
   "source": [
    "import pandas as pd\n"
   ]
  },
  {
   "cell_type": "code",
   "execution_count": 6,
   "id": "3ce0d1f9-5bee-447c-9993-d72efc4a0264",
   "metadata": {},
   "outputs": [],
   "source": [
    "\n",
    "from sqlalchemy import create_engine\n",
    "username='postgres'\n",
    "password='1234'\n",
    "host='localhost'\n",
    "port='5432'\n",
    "database='sql_project'\n",
    "engine=create_engine(f'postgresql+psycopg2://{username}:{password}@{host}:{port}/{database}')\n",
    "\n",
    "        "
   ]
  },
  {
   "cell_type": "code",
   "execution_count": 7,
   "id": "8f47bdc5-9d91-43f7-9856-9544bd225c73",
   "metadata": {},
   "outputs": [],
   "source": [
    "df1=pd.read_csv('gold.dim_customers.csv')\n",
    "df2=pd.read_csv('gold.dim_products.csv')\n",
    "df3=pd.read_csv('gold.fact_sales.csv')"
   ]
  },
  {
   "cell_type": "code",
   "execution_count": 10,
   "id": "62eb98c8-ec0f-486a-ba7f-4c2d225155b1",
   "metadata": {},
   "outputs": [
    {
     "name": "stdout",
     "output_type": "stream",
     "text": [
      "<class 'pandas.core.frame.DataFrame'>\n",
      "RangeIndex: 18484 entries, 0 to 18483\n",
      "Data columns (total 10 columns):\n",
      " #   Column           Non-Null Count  Dtype \n",
      "---  ------           --------------  ----- \n",
      " 0   customer_key     18484 non-null  int64 \n",
      " 1   customer_id      18484 non-null  int64 \n",
      " 2   customer_number  18484 non-null  object\n",
      " 3   first_name       18484 non-null  object\n",
      " 4   last_name        18484 non-null  object\n",
      " 5   country          18147 non-null  object\n",
      " 6   marital_status   18484 non-null  object\n",
      " 7   gender           18469 non-null  object\n",
      " 8   birthdate        18467 non-null  object\n",
      " 9   create_date      18484 non-null  object\n",
      "dtypes: int64(2), object(8)\n",
      "memory usage: 1.4+ MB\n"
     ]
    }
   ],
   "source": [
    "df1.info()"
   ]
  },
  {
   "cell_type": "code",
   "execution_count": 13,
   "id": "00de53e3-034f-4adb-8b9b-9d69cf5e51eb",
   "metadata": {},
   "outputs": [
    {
     "name": "stdout",
     "output_type": "stream",
     "text": [
      "product_key        int64\n",
      "product_id         int64\n",
      "product_number    object\n",
      "product_name      object\n",
      "category_id       object\n",
      "category          object\n",
      "subcategory       object\n",
      "maintenance       object\n",
      "cost               int64\n",
      "product_line      object\n",
      "start_date        object\n",
      "dtype: object\n"
     ]
    }
   ],
   "source": [
    "print(df2.dtypes)"
   ]
  },
  {
   "cell_type": "code",
   "execution_count": 14,
   "id": "83358ae9-6728-4cf6-a170-725962d7ee6d",
   "metadata": {},
   "outputs": [
    {
     "name": "stdout",
     "output_type": "stream",
     "text": [
      "<class 'pandas.core.frame.DataFrame'>\n",
      "RangeIndex: 60398 entries, 0 to 60397\n",
      "Data columns (total 9 columns):\n",
      " #   Column         Non-Null Count  Dtype \n",
      "---  ------         --------------  ----- \n",
      " 0   order_number   60398 non-null  object\n",
      " 1   product_key    60398 non-null  int64 \n",
      " 2   customer_key   60398 non-null  int64 \n",
      " 3   order_date     60379 non-null  object\n",
      " 4   shipping_date  60398 non-null  object\n",
      " 5   due_date       60398 non-null  object\n",
      " 6   sales_amount   60398 non-null  int64 \n",
      " 7   quantity       60398 non-null  int64 \n",
      " 8   price          60398 non-null  int64 \n",
      "dtypes: int64(5), object(4)\n",
      "memory usage: 4.1+ MB\n"
     ]
    }
   ],
   "source": [
    "df3.info()"
   ]
  },
  {
   "cell_type": "code",
   "execution_count": 15,
   "id": "1ec78590-6b24-4729-9ddd-3e636d6470e5",
   "metadata": {},
   "outputs": [],
   "source": [
    "from sqlalchemy.types import Date, Integer, BigInteger, String, Float"
   ]
  },
  {
   "cell_type": "code",
   "execution_count": 20,
   "id": "6eb1805a-4658-44ba-9f0b-74d9020f1511",
   "metadata": {},
   "outputs": [
    {
     "data": {
      "text/plain": [
       "398"
      ]
     },
     "execution_count": 20,
     "metadata": {},
     "output_type": "execute_result"
    }
   ],
   "source": [
    "df1.to_sql('gold_dim_customers',engine,dtype={'birthdate':Date,'create_date':Date,'customer_key':Integer,'customer_id':Integer},if_exists='replace',index=False)\n",
    "df2.to_sql('gold_dim_products',engine,dtype={'product_key':Integer,'start_date':Date,'product_id':Integer,'cost':Integer},if_exists='replace',index=False)\n",
    "df3.to_sql('gold_fact_sales',engine,dtype={'product_key':Integer,'order_date':Date,'due_date':Date,'shipping_date':Date,'customer_key':Integer,'sales_amount':Integer,'quantity':Integer,'price':Integer},if_exists='replace',index=False)"
   ]
  },
  {
   "cell_type": "code",
   "execution_count": null,
   "id": "4d82ab57-b2a2-419a-aa14-a4c2bf0580a7",
   "metadata": {},
   "outputs": [],
   "source": []
  }
 ],
 "metadata": {
  "kernelspec": {
   "display_name": "Python [conda env:base] *",
   "language": "python",
   "name": "conda-base-py"
  },
  "language_info": {
   "codemirror_mode": {
    "name": "ipython",
    "version": 3
   },
   "file_extension": ".py",
   "mimetype": "text/x-python",
   "name": "python",
   "nbconvert_exporter": "python",
   "pygments_lexer": "ipython3",
   "version": "3.13.5"
  }
 },
 "nbformat": 4,
 "nbformat_minor": 5
}
